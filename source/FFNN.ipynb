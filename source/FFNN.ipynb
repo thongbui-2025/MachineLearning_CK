{
 "cells": [
  {
   "cell_type": "code",
   "execution_count": 67,
   "metadata": {},
   "outputs": [],
   "source": [
    "import numpy as np \n",
    "import pandas as pd \n",
    "import tensorflow as tf\n",
    "import keras\n",
    "from keras import layers\n",
    "from importlib import reload\n",
    "from sklearn.metrics import classification_report\n",
    "import copy\n",
    "import helper"
   ]
  },
  {
   "cell_type": "markdown",
   "metadata": {},
   "source": [
    "Load lại dataset đã được tiền xử lý"
   ]
  },
  {
   "cell_type": "code",
   "execution_count": 70,
   "metadata": {},
   "outputs": [],
   "source": [
    "X_train, X_test, y_train, y_test = helper.load_data()"
   ]
  },
  {
   "cell_type": "markdown",
   "metadata": {},
   "source": [
    "Vì vấn đề là classification, và output layer có activation là softmax, nên target cần phải encode theo onehot (có thể dùng dummy, hoặc to_categorial của keras.utils).\\\n",
    "Ở đây chúng tôi xin sử dụng to_categorical trong keras.utils."
   ]
  },
  {
   "cell_type": "code",
   "execution_count": 72,
   "metadata": {},
   "outputs": [
    {
     "name": "stdout",
     "output_type": "stream",
     "text": [
      "[[0. 1. 0. 0.]\n",
      " [1. 0. 0. 0.]\n",
      " [0. 1. 0. 0.]\n",
      " ...\n",
      " [0. 0. 1. 0.]\n",
      " [0. 1. 0. 0.]\n",
      " [0. 1. 0. 0.]]\n"
     ]
    }
   ],
   "source": [
    "from keras.utils import to_categorical\n",
    "y_train_tmp = copy.copy(y_train)\n",
    "y_train_tmp = to_categorical(y_train_tmp)\n",
    "y_train_onehot = y_train_tmp\n",
    "print(y_train_onehot)"
   ]
  },
  {
   "cell_type": "markdown",
   "metadata": {},
   "source": [
    "### Build model"
   ]
  },
  {
   "cell_type": "code",
   "execution_count": 36,
   "metadata": {},
   "outputs": [],
   "source": [
    "model = keras.models.Sequential([\n",
    "    layers.Dense(16, activation='relu', input_dim=X_train.shape[1]),\n",
    "    layers.Dense(32, activation='relu'),\n",
    "    layers.Dense(4, activation='softmax') # target có 4 classes\n",
    "])\n",
    "\n",
    "model.compile(optimizer='adam', loss='categorical_crossentropy', metrics=['accuracy'])"
   ]
  },
  {
   "cell_type": "markdown",
   "metadata": {},
   "source": [
    "### Fit model"
   ]
  },
  {
   "cell_type": "code",
   "execution_count": 37,
   "metadata": {},
   "outputs": [
    {
     "name": "stdout",
     "output_type": "stream",
     "text": [
      "Epoch 1/130\n"
     ]
    },
    {
     "name": "stdout",
     "output_type": "stream",
     "text": [
      "36/36 [==============================] - 1s 9ms/step - loss: 1.1847 - accuracy: 0.5083 - val_loss: 1.0247 - val_accuracy: 0.6865\n",
      "Epoch 2/130\n",
      "36/36 [==============================] - 0s 3ms/step - loss: 0.8855 - accuracy: 0.7152 - val_loss: 0.8199 - val_accuracy: 0.7100\n",
      "Epoch 3/130\n",
      "36/36 [==============================] - 0s 2ms/step - loss: 0.7315 - accuracy: 0.7303 - val_loss: 0.6998 - val_accuracy: 0.7178\n",
      "Epoch 4/130\n",
      "36/36 [==============================] - 0s 2ms/step - loss: 0.6334 - accuracy: 0.7567 - val_loss: 0.6033 - val_accuracy: 0.7783\n",
      "Epoch 5/130\n",
      "36/36 [==============================] - 0s 3ms/step - loss: 0.5504 - accuracy: 0.8085 - val_loss: 0.5262 - val_accuracy: 0.8186\n",
      "Epoch 6/130\n",
      "36/36 [==============================] - 0s 4ms/step - loss: 0.4771 - accuracy: 0.8449 - val_loss: 0.4602 - val_accuracy: 0.8287\n",
      "Epoch 7/130\n",
      "36/36 [==============================] - 0s 3ms/step - loss: 0.4170 - accuracy: 0.8628 - val_loss: 0.4096 - val_accuracy: 0.8421\n",
      "Epoch 8/130\n",
      "36/36 [==============================] - 0s 3ms/step - loss: 0.3685 - accuracy: 0.8740 - val_loss: 0.3729 - val_accuracy: 0.8443\n",
      "Epoch 9/130\n",
      "36/36 [==============================] - 0s 3ms/step - loss: 0.3325 - accuracy: 0.8841 - val_loss: 0.3434 - val_accuracy: 0.8645\n",
      "Epoch 10/130\n",
      "36/36 [==============================] - 0s 2ms/step - loss: 0.3041 - accuracy: 0.8972 - val_loss: 0.3261 - val_accuracy: 0.8712\n",
      "Epoch 11/130\n",
      "36/36 [==============================] - 0s 4ms/step - loss: 0.2841 - accuracy: 0.9023 - val_loss: 0.3122 - val_accuracy: 0.8768\n",
      "Epoch 12/130\n",
      "36/36 [==============================] - 0s 3ms/step - loss: 0.2681 - accuracy: 0.9048 - val_loss: 0.2988 - val_accuracy: 0.8824\n",
      "Epoch 13/130\n",
      "36/36 [==============================] - 0s 3ms/step - loss: 0.2574 - accuracy: 0.9093 - val_loss: 0.2885 - val_accuracy: 0.8835\n",
      "Epoch 14/130\n",
      "36/36 [==============================] - 0s 2ms/step - loss: 0.2471 - accuracy: 0.9104 - val_loss: 0.2782 - val_accuracy: 0.8880\n",
      "Epoch 15/130\n",
      "36/36 [==============================] - 0s 2ms/step - loss: 0.2382 - accuracy: 0.9112 - val_loss: 0.2673 - val_accuracy: 0.8903\n",
      "Epoch 16/130\n",
      "36/36 [==============================] - 0s 3ms/step - loss: 0.2309 - accuracy: 0.9140 - val_loss: 0.2626 - val_accuracy: 0.8947\n",
      "Epoch 17/130\n",
      "36/36 [==============================] - 0s 4ms/step - loss: 0.2243 - accuracy: 0.9174 - val_loss: 0.2582 - val_accuracy: 0.8936\n",
      "Epoch 18/130\n",
      "36/36 [==============================] - 0s 3ms/step - loss: 0.2175 - accuracy: 0.9180 - val_loss: 0.2519 - val_accuracy: 0.8981\n",
      "Epoch 19/130\n",
      "36/36 [==============================] - 0s 2ms/step - loss: 0.2123 - accuracy: 0.9205 - val_loss: 0.2458 - val_accuracy: 0.9037\n",
      "Epoch 20/130\n",
      "36/36 [==============================] - 0s 2ms/step - loss: 0.2077 - accuracy: 0.9224 - val_loss: 0.2401 - val_accuracy: 0.9015\n",
      "Epoch 21/130\n",
      "36/36 [==============================] - 0s 3ms/step - loss: 0.2029 - accuracy: 0.9255 - val_loss: 0.2408 - val_accuracy: 0.9059\n",
      "Epoch 22/130\n",
      "36/36 [==============================] - 0s 4ms/step - loss: 0.1983 - accuracy: 0.9280 - val_loss: 0.2401 - val_accuracy: 0.9015\n",
      "Epoch 23/130\n",
      "36/36 [==============================] - 0s 2ms/step - loss: 0.1938 - accuracy: 0.9278 - val_loss: 0.2275 - val_accuracy: 0.9082\n",
      "Epoch 24/130\n",
      "36/36 [==============================] - 0s 2ms/step - loss: 0.1898 - accuracy: 0.9306 - val_loss: 0.2228 - val_accuracy: 0.9104\n",
      "Epoch 25/130\n",
      "36/36 [==============================] - 0s 2ms/step - loss: 0.1860 - accuracy: 0.9308 - val_loss: 0.2233 - val_accuracy: 0.9138\n",
      "Epoch 26/130\n",
      "36/36 [==============================] - 0s 2ms/step - loss: 0.1822 - accuracy: 0.9359 - val_loss: 0.2170 - val_accuracy: 0.9138\n",
      "Epoch 27/130\n",
      "36/36 [==============================] - 0s 2ms/step - loss: 0.1792 - accuracy: 0.9353 - val_loss: 0.2143 - val_accuracy: 0.9149\n",
      "Epoch 28/130\n",
      "36/36 [==============================] - 0s 3ms/step - loss: 0.1756 - accuracy: 0.9392 - val_loss: 0.2072 - val_accuracy: 0.9160\n",
      "Epoch 29/130\n",
      "36/36 [==============================] - 0s 3ms/step - loss: 0.1723 - accuracy: 0.9390 - val_loss: 0.2121 - val_accuracy: 0.9227\n",
      "Epoch 30/130\n",
      "36/36 [==============================] - 0s 2ms/step - loss: 0.1711 - accuracy: 0.9406 - val_loss: 0.2071 - val_accuracy: 0.9216\n",
      "Epoch 31/130\n",
      "36/36 [==============================] - 0s 2ms/step - loss: 0.1673 - accuracy: 0.9426 - val_loss: 0.1995 - val_accuracy: 0.9250\n",
      "Epoch 32/130\n",
      "36/36 [==============================] - 0s 2ms/step - loss: 0.1649 - accuracy: 0.9451 - val_loss: 0.1989 - val_accuracy: 0.9239\n",
      "Epoch 33/130\n",
      "36/36 [==============================] - 0s 4ms/step - loss: 0.1616 - accuracy: 0.9479 - val_loss: 0.1934 - val_accuracy: 0.9239\n",
      "Epoch 34/130\n",
      "36/36 [==============================] - 0s 4ms/step - loss: 0.1607 - accuracy: 0.9488 - val_loss: 0.1950 - val_accuracy: 0.9283\n",
      "Epoch 35/130\n",
      "36/36 [==============================] - 0s 2ms/step - loss: 0.1573 - accuracy: 0.9479 - val_loss: 0.1893 - val_accuracy: 0.9283\n",
      "Epoch 36/130\n",
      "36/36 [==============================] - 0s 2ms/step - loss: 0.1551 - accuracy: 0.9499 - val_loss: 0.1899 - val_accuracy: 0.9306\n",
      "Epoch 37/130\n",
      "36/36 [==============================] - 0s 2ms/step - loss: 0.1527 - accuracy: 0.9513 - val_loss: 0.1877 - val_accuracy: 0.9295\n",
      "Epoch 38/130\n",
      "36/36 [==============================] - 0s 2ms/step - loss: 0.1519 - accuracy: 0.9499 - val_loss: 0.1801 - val_accuracy: 0.9328\n",
      "Epoch 39/130\n",
      "36/36 [==============================] - 0s 3ms/step - loss: 0.1488 - accuracy: 0.9538 - val_loss: 0.1849 - val_accuracy: 0.9328\n",
      "Epoch 40/130\n",
      "36/36 [==============================] - 0s 3ms/step - loss: 0.1478 - accuracy: 0.9532 - val_loss: 0.1820 - val_accuracy: 0.9328\n",
      "Epoch 41/130\n",
      "36/36 [==============================] - 0s 2ms/step - loss: 0.1448 - accuracy: 0.9532 - val_loss: 0.1824 - val_accuracy: 0.9339\n",
      "Epoch 42/130\n",
      "36/36 [==============================] - 0s 2ms/step - loss: 0.1425 - accuracy: 0.9563 - val_loss: 0.1797 - val_accuracy: 0.9351\n",
      "Epoch 43/130\n",
      "36/36 [==============================] - 0s 2ms/step - loss: 0.1414 - accuracy: 0.9558 - val_loss: 0.1788 - val_accuracy: 0.9362\n",
      "Epoch 44/130\n",
      "36/36 [==============================] - 0s 2ms/step - loss: 0.1395 - accuracy: 0.9549 - val_loss: 0.1767 - val_accuracy: 0.9362\n",
      "Epoch 45/130\n",
      "36/36 [==============================] - 0s 3ms/step - loss: 0.1374 - accuracy: 0.9572 - val_loss: 0.1728 - val_accuracy: 0.9373\n",
      "Epoch 46/130\n",
      "36/36 [==============================] - 0s 2ms/step - loss: 0.1359 - accuracy: 0.9549 - val_loss: 0.1753 - val_accuracy: 0.9384\n",
      "Epoch 47/130\n",
      "36/36 [==============================] - 0s 2ms/step - loss: 0.1345 - accuracy: 0.9577 - val_loss: 0.1713 - val_accuracy: 0.9395\n",
      "Epoch 48/130\n",
      "36/36 [==============================] - 0s 2ms/step - loss: 0.1326 - accuracy: 0.9569 - val_loss: 0.1690 - val_accuracy: 0.9384\n",
      "Epoch 49/130\n",
      "36/36 [==============================] - 0s 2ms/step - loss: 0.1313 - accuracy: 0.9608 - val_loss: 0.1667 - val_accuracy: 0.9373\n",
      "Epoch 50/130\n",
      "36/36 [==============================] - 0s 2ms/step - loss: 0.1303 - accuracy: 0.9600 - val_loss: 0.1674 - val_accuracy: 0.9395\n",
      "Epoch 51/130\n",
      "36/36 [==============================] - 0s 2ms/step - loss: 0.1286 - accuracy: 0.9586 - val_loss: 0.1676 - val_accuracy: 0.9373\n",
      "Epoch 52/130\n",
      "36/36 [==============================] - 0s 2ms/step - loss: 0.1278 - accuracy: 0.9605 - val_loss: 0.1620 - val_accuracy: 0.9373\n",
      "Epoch 53/130\n",
      "36/36 [==============================] - 0s 2ms/step - loss: 0.1265 - accuracy: 0.9594 - val_loss: 0.1619 - val_accuracy: 0.9395\n",
      "Epoch 54/130\n",
      "36/36 [==============================] - 0s 2ms/step - loss: 0.1251 - accuracy: 0.9608 - val_loss: 0.1654 - val_accuracy: 0.9406\n",
      "Epoch 55/130\n",
      "36/36 [==============================] - 0s 2ms/step - loss: 0.1246 - accuracy: 0.9628 - val_loss: 0.1639 - val_accuracy: 0.9373\n",
      "Epoch 56/130\n",
      "36/36 [==============================] - 0s 2ms/step - loss: 0.1231 - accuracy: 0.9622 - val_loss: 0.1694 - val_accuracy: 0.9418\n",
      "Epoch 57/130\n",
      "36/36 [==============================] - 0s 2ms/step - loss: 0.1223 - accuracy: 0.9630 - val_loss: 0.1600 - val_accuracy: 0.9406\n",
      "Epoch 58/130\n",
      "36/36 [==============================] - 0s 2ms/step - loss: 0.1194 - accuracy: 0.9630 - val_loss: 0.1569 - val_accuracy: 0.9418\n",
      "Epoch 59/130\n",
      "36/36 [==============================] - 0s 2ms/step - loss: 0.1180 - accuracy: 0.9653 - val_loss: 0.1589 - val_accuracy: 0.9451\n",
      "Epoch 60/130\n",
      "36/36 [==============================] - 0s 2ms/step - loss: 0.1177 - accuracy: 0.9664 - val_loss: 0.1566 - val_accuracy: 0.9429\n",
      "Epoch 61/130\n",
      "36/36 [==============================] - 0s 2ms/step - loss: 0.1163 - accuracy: 0.9672 - val_loss: 0.1560 - val_accuracy: 0.9451\n",
      "Epoch 62/130\n",
      "36/36 [==============================] - 0s 2ms/step - loss: 0.1154 - accuracy: 0.9642 - val_loss: 0.1498 - val_accuracy: 0.9462\n",
      "Epoch 63/130\n",
      "36/36 [==============================] - 0s 3ms/step - loss: 0.1159 - accuracy: 0.9658 - val_loss: 0.1539 - val_accuracy: 0.9462\n",
      "Epoch 64/130\n",
      "36/36 [==============================] - 0s 2ms/step - loss: 0.1132 - accuracy: 0.9675 - val_loss: 0.1525 - val_accuracy: 0.9451\n",
      "Epoch 65/130\n",
      "36/36 [==============================] - 0s 2ms/step - loss: 0.1122 - accuracy: 0.9653 - val_loss: 0.1504 - val_accuracy: 0.9451\n",
      "Epoch 66/130\n",
      "36/36 [==============================] - 0s 2ms/step - loss: 0.1109 - accuracy: 0.9686 - val_loss: 0.1522 - val_accuracy: 0.9485\n",
      "Epoch 67/130\n",
      "36/36 [==============================] - 0s 3ms/step - loss: 0.1114 - accuracy: 0.9656 - val_loss: 0.1496 - val_accuracy: 0.9462\n",
      "Epoch 68/130\n",
      "36/36 [==============================] - 0s 3ms/step - loss: 0.1091 - accuracy: 0.9706 - val_loss: 0.1442 - val_accuracy: 0.9485\n",
      "Epoch 69/130\n",
      "36/36 [==============================] - 0s 4ms/step - loss: 0.1081 - accuracy: 0.9686 - val_loss: 0.1453 - val_accuracy: 0.9485\n",
      "Epoch 70/130\n",
      "36/36 [==============================] - 0s 3ms/step - loss: 0.1068 - accuracy: 0.9698 - val_loss: 0.1509 - val_accuracy: 0.9474\n",
      "Epoch 71/130\n",
      "36/36 [==============================] - 0s 2ms/step - loss: 0.1055 - accuracy: 0.9717 - val_loss: 0.1439 - val_accuracy: 0.9462\n",
      "Epoch 72/130\n",
      "36/36 [==============================] - 0s 2ms/step - loss: 0.1047 - accuracy: 0.9712 - val_loss: 0.1426 - val_accuracy: 0.9496\n",
      "Epoch 73/130\n",
      "36/36 [==============================] - 0s 4ms/step - loss: 0.1055 - accuracy: 0.9700 - val_loss: 0.1423 - val_accuracy: 0.9518\n",
      "Epoch 74/130\n",
      "36/36 [==============================] - 0s 3ms/step - loss: 0.1034 - accuracy: 0.9723 - val_loss: 0.1411 - val_accuracy: 0.9485\n",
      "Epoch 75/130\n",
      "36/36 [==============================] - 0s 3ms/step - loss: 0.1015 - accuracy: 0.9712 - val_loss: 0.1409 - val_accuracy: 0.9518\n",
      "Epoch 76/130\n",
      "36/36 [==============================] - 0s 2ms/step - loss: 0.1027 - accuracy: 0.9734 - val_loss: 0.1400 - val_accuracy: 0.9518\n",
      "Epoch 77/130\n",
      "36/36 [==============================] - 0s 2ms/step - loss: 0.1006 - accuracy: 0.9740 - val_loss: 0.1431 - val_accuracy: 0.9462\n",
      "Epoch 78/130\n",
      "36/36 [==============================] - 0s 2ms/step - loss: 0.0996 - accuracy: 0.9756 - val_loss: 0.1392 - val_accuracy: 0.9507\n",
      "Epoch 79/130\n",
      "36/36 [==============================] - 0s 2ms/step - loss: 0.0987 - accuracy: 0.9759 - val_loss: 0.1389 - val_accuracy: 0.9518\n",
      "Epoch 80/130\n",
      "36/36 [==============================] - 0s 2ms/step - loss: 0.0984 - accuracy: 0.9737 - val_loss: 0.1395 - val_accuracy: 0.9496\n",
      "Epoch 81/130\n",
      "36/36 [==============================] - 0s 2ms/step - loss: 0.0971 - accuracy: 0.9756 - val_loss: 0.1371 - val_accuracy: 0.9552\n",
      "Epoch 82/130\n",
      "36/36 [==============================] - 0s 2ms/step - loss: 0.0968 - accuracy: 0.9759 - val_loss: 0.1387 - val_accuracy: 0.9530\n",
      "Epoch 83/130\n",
      "36/36 [==============================] - 0s 2ms/step - loss: 0.0960 - accuracy: 0.9754 - val_loss: 0.1349 - val_accuracy: 0.9563\n",
      "Epoch 84/130\n",
      "36/36 [==============================] - 0s 2ms/step - loss: 0.0946 - accuracy: 0.9768 - val_loss: 0.1320 - val_accuracy: 0.9563\n",
      "Epoch 85/130\n",
      "36/36 [==============================] - 0s 2ms/step - loss: 0.0943 - accuracy: 0.9759 - val_loss: 0.1346 - val_accuracy: 0.9530\n",
      "Epoch 86/130\n",
      "36/36 [==============================] - 0s 2ms/step - loss: 0.0941 - accuracy: 0.9742 - val_loss: 0.1355 - val_accuracy: 0.9541\n",
      "Epoch 87/130\n",
      "36/36 [==============================] - 0s 2ms/step - loss: 0.0930 - accuracy: 0.9768 - val_loss: 0.1293 - val_accuracy: 0.9563\n",
      "Epoch 88/130\n",
      "36/36 [==============================] - 0s 2ms/step - loss: 0.0929 - accuracy: 0.9768 - val_loss: 0.1327 - val_accuracy: 0.9586\n",
      "Epoch 89/130\n",
      "36/36 [==============================] - 0s 2ms/step - loss: 0.0912 - accuracy: 0.9762 - val_loss: 0.1313 - val_accuracy: 0.9541\n",
      "Epoch 90/130\n",
      "36/36 [==============================] - 0s 2ms/step - loss: 0.0902 - accuracy: 0.9776 - val_loss: 0.1338 - val_accuracy: 0.9518\n",
      "Epoch 91/130\n",
      "36/36 [==============================] - 0s 2ms/step - loss: 0.0900 - accuracy: 0.9768 - val_loss: 0.1304 - val_accuracy: 0.9541\n",
      "Epoch 92/130\n",
      "36/36 [==============================] - 0s 2ms/step - loss: 0.0891 - accuracy: 0.9779 - val_loss: 0.1289 - val_accuracy: 0.9563\n",
      "Epoch 93/130\n",
      "36/36 [==============================] - 0s 3ms/step - loss: 0.0876 - accuracy: 0.9790 - val_loss: 0.1287 - val_accuracy: 0.9586\n",
      "Epoch 94/130\n",
      "36/36 [==============================] - 0s 2ms/step - loss: 0.0872 - accuracy: 0.9793 - val_loss: 0.1299 - val_accuracy: 0.9563\n",
      "Epoch 95/130\n",
      "36/36 [==============================] - 0s 3ms/step - loss: 0.0869 - accuracy: 0.9790 - val_loss: 0.1261 - val_accuracy: 0.9597\n",
      "Epoch 96/130\n",
      "36/36 [==============================] - 0s 3ms/step - loss: 0.0863 - accuracy: 0.9790 - val_loss: 0.1286 - val_accuracy: 0.9574\n",
      "Epoch 97/130\n",
      "36/36 [==============================] - 0s 3ms/step - loss: 0.0857 - accuracy: 0.9790 - val_loss: 0.1240 - val_accuracy: 0.9608\n",
      "Epoch 98/130\n",
      "36/36 [==============================] - 0s 2ms/step - loss: 0.0852 - accuracy: 0.9787 - val_loss: 0.1283 - val_accuracy: 0.9563\n",
      "Epoch 99/130\n",
      "36/36 [==============================] - 0s 2ms/step - loss: 0.0850 - accuracy: 0.9790 - val_loss: 0.1276 - val_accuracy: 0.9574\n",
      "Epoch 100/130\n",
      "36/36 [==============================] - 0s 3ms/step - loss: 0.0847 - accuracy: 0.9798 - val_loss: 0.1304 - val_accuracy: 0.9541\n",
      "Epoch 101/130\n",
      "36/36 [==============================] - 0s 2ms/step - loss: 0.0826 - accuracy: 0.9821 - val_loss: 0.1262 - val_accuracy: 0.9563\n",
      "Epoch 102/130\n",
      "36/36 [==============================] - 0s 2ms/step - loss: 0.0832 - accuracy: 0.9798 - val_loss: 0.1389 - val_accuracy: 0.9496\n",
      "Epoch 103/130\n",
      "36/36 [==============================] - 0s 2ms/step - loss: 0.0829 - accuracy: 0.9793 - val_loss: 0.1233 - val_accuracy: 0.9597\n",
      "Epoch 104/130\n",
      "36/36 [==============================] - 0s 2ms/step - loss: 0.0806 - accuracy: 0.9801 - val_loss: 0.1198 - val_accuracy: 0.9608\n",
      "Epoch 105/130\n",
      "36/36 [==============================] - 0s 2ms/step - loss: 0.0811 - accuracy: 0.9793 - val_loss: 0.1229 - val_accuracy: 0.9586\n",
      "Epoch 106/130\n",
      "36/36 [==============================] - 0s 2ms/step - loss: 0.0800 - accuracy: 0.9815 - val_loss: 0.1222 - val_accuracy: 0.9586\n",
      "Epoch 107/130\n",
      "36/36 [==============================] - 0s 2ms/step - loss: 0.0793 - accuracy: 0.9826 - val_loss: 0.1222 - val_accuracy: 0.9619\n",
      "Epoch 108/130\n",
      "36/36 [==============================] - 0s 3ms/step - loss: 0.0786 - accuracy: 0.9826 - val_loss: 0.1198 - val_accuracy: 0.9608\n",
      "Epoch 109/130\n",
      "36/36 [==============================] - 0s 3ms/step - loss: 0.0775 - accuracy: 0.9824 - val_loss: 0.1193 - val_accuracy: 0.9597\n",
      "Epoch 110/130\n",
      "36/36 [==============================] - 0s 2ms/step - loss: 0.0773 - accuracy: 0.9829 - val_loss: 0.1215 - val_accuracy: 0.9630\n",
      "Epoch 111/130\n",
      "36/36 [==============================] - 0s 2ms/step - loss: 0.0767 - accuracy: 0.9807 - val_loss: 0.1229 - val_accuracy: 0.9563\n",
      "Epoch 112/130\n",
      "36/36 [==============================] - 0s 2ms/step - loss: 0.0767 - accuracy: 0.9826 - val_loss: 0.1198 - val_accuracy: 0.9597\n",
      "Epoch 113/130\n",
      "36/36 [==============================] - 0s 3ms/step - loss: 0.0762 - accuracy: 0.9838 - val_loss: 0.1232 - val_accuracy: 0.9586\n",
      "Epoch 114/130\n",
      "36/36 [==============================] - 0s 2ms/step - loss: 0.0758 - accuracy: 0.9824 - val_loss: 0.1211 - val_accuracy: 0.9608\n",
      "Epoch 115/130\n",
      "36/36 [==============================] - 0s 3ms/step - loss: 0.0752 - accuracy: 0.9826 - val_loss: 0.1192 - val_accuracy: 0.9597\n",
      "Epoch 116/130\n",
      "36/36 [==============================] - 0s 2ms/step - loss: 0.0736 - accuracy: 0.9835 - val_loss: 0.1253 - val_accuracy: 0.9563\n",
      "Epoch 117/130\n",
      "36/36 [==============================] - 0s 2ms/step - loss: 0.0738 - accuracy: 0.9832 - val_loss: 0.1207 - val_accuracy: 0.9597\n",
      "Epoch 118/130\n",
      "36/36 [==============================] - 0s 2ms/step - loss: 0.0735 - accuracy: 0.9838 - val_loss: 0.1171 - val_accuracy: 0.9619\n",
      "Epoch 119/130\n",
      "36/36 [==============================] - 0s 2ms/step - loss: 0.0724 - accuracy: 0.9832 - val_loss: 0.1188 - val_accuracy: 0.9586\n",
      "Epoch 120/130\n",
      "36/36 [==============================] - 0s 2ms/step - loss: 0.0720 - accuracy: 0.9840 - val_loss: 0.1118 - val_accuracy: 0.9608\n",
      "Epoch 121/130\n",
      "36/36 [==============================] - 0s 2ms/step - loss: 0.0735 - accuracy: 0.9832 - val_loss: 0.1180 - val_accuracy: 0.9574\n",
      "Epoch 122/130\n",
      "36/36 [==============================] - 0s 3ms/step - loss: 0.0716 - accuracy: 0.9840 - val_loss: 0.1144 - val_accuracy: 0.9608\n",
      "Epoch 123/130\n",
      "36/36 [==============================] - 0s 2ms/step - loss: 0.0710 - accuracy: 0.9846 - val_loss: 0.1149 - val_accuracy: 0.9619\n",
      "Epoch 124/130\n",
      "36/36 [==============================] - 0s 2ms/step - loss: 0.0709 - accuracy: 0.9838 - val_loss: 0.1158 - val_accuracy: 0.9574\n",
      "Epoch 125/130\n",
      "36/36 [==============================] - 0s 2ms/step - loss: 0.0698 - accuracy: 0.9832 - val_loss: 0.1135 - val_accuracy: 0.9597\n",
      "Epoch 126/130\n",
      "36/36 [==============================] - 0s 2ms/step - loss: 0.0690 - accuracy: 0.9832 - val_loss: 0.1127 - val_accuracy: 0.9608\n",
      "Epoch 127/130\n",
      "36/36 [==============================] - 0s 2ms/step - loss: 0.0685 - accuracy: 0.9849 - val_loss: 0.1127 - val_accuracy: 0.9586\n",
      "Epoch 128/130\n",
      "36/36 [==============================] - 0s 2ms/step - loss: 0.0684 - accuracy: 0.9818 - val_loss: 0.1199 - val_accuracy: 0.9574\n",
      "Epoch 129/130\n",
      "36/36 [==============================] - 0s 2ms/step - loss: 0.0681 - accuracy: 0.9852 - val_loss: 0.1117 - val_accuracy: 0.9619\n",
      "Epoch 130/130\n",
      "36/36 [==============================] - 0s 2ms/step - loss: 0.0671 - accuracy: 0.9849 - val_loss: 0.1119 - val_accuracy: 0.9597\n"
     ]
    }
   ],
   "source": [
    "history = model.fit(X_train, y_train_onehot, epochs=130, batch_size=100, validation_split=0.2, verbose=1)"
   ]
  },
  {
   "cell_type": "code",
   "execution_count": 38,
   "metadata": {},
   "outputs": [
    {
     "data": {
      "image/png": "[encoded data removed]",
      "text/plain": [
       "<Figure size 800x500 with 1 Axes>"
      ]
     },
     "metadata": {},
     "output_type": "display_data"
    }
   ],
   "source": [
    "helper.plot_Loss_Val(history)"
   ]
  },
  {
   "cell_type": "markdown",
   "metadata": {},
   "source": [
    "Tóm tắt các thông tin sau khi fit"
   ]
  },
  {
   "cell_type": "code",
   "execution_count": 39,
   "metadata": {},
   "outputs": [
    {
     "name": "stdout",
     "output_type": "stream",
     "text": [
      "Model: \"sequential_1\"\n",
      "_________________________________________________________________\n",
      " Layer (type)                Output Shape              Param #   \n",
      "=================================================================\n",
      " dense_3 (Dense)             (None, 16)                144       \n",
      "                                                                 \n",
      " dense_4 (Dense)             (None, 32)                544       \n",
      "                                                                 \n",
      " dense_5 (Dense)             (None, 4)                 132       \n",
      "                                                                 \n",
      "=================================================================\n",
      "Total params: 820 (3.20 KB)\n",
      "Trainable params: 820 (3.20 KB)\n",
      "Non-trainable params: 0 (0.00 Byte)\n",
      "_________________________________________________________________\n"
     ]
    }
   ],
   "source": [
    "model.summary()"
   ]
  },
  {
   "cell_type": "markdown",
   "metadata": {},
   "source": [
    "Predict"
   ]
  },
  {
   "cell_type": "code",
   "execution_count": 40,
   "metadata": {},
   "outputs": [
    {
     "name": "stdout",
     "output_type": "stream",
     "text": [
      "47/47 [==============================] - 0s 840us/step\n"
     ]
    },
    {
     "data": {
      "text/plain": [
       "array([[9.9999285e-01, 7.1531204e-06, 7.9972636e-20, 5.0428068e-29],\n",
       "       [7.5277443e-05, 9.9124980e-01, 9.9577584e-05, 8.5752923e-03],\n",
       "       [1.8201102e-07, 9.9999976e-01, 4.0972142e-10, 3.4651472e-16],\n",
       "       ...,\n",
       "       [3.8002004e-11, 2.6278629e-03, 2.4221791e-03, 9.9494994e-01],\n",
       "       [6.0483004e-14, 4.6384797e-05, 5.2087267e-05, 9.9990153e-01],\n",
       "       [4.1445834e-03, 9.9583566e-01, 1.9790214e-05, 5.1333598e-10]],\n",
       "      dtype=float32)"
      ]
     },
     "execution_count": 40,
     "metadata": {},
     "output_type": "execute_result"
    }
   ],
   "source": [
    "y_pred = model.predict(X_test)\n",
    "y_pred[:5]"
   ]
  },
  {
   "cell_type": "markdown",
   "metadata": {},
   "source": [
    "Với mỗi hàng trong ma trận trên chính là xác xuất của từng class khi model dự đoán 1 input.\\\n",
    "Với mỗi hàng ta sẽ lấy index của element có giá trị lớn nhất, index này cũng chính là class mà model dự đoán cho 1 input."
   ]
  },
  {
   "cell_type": "code",
   "execution_count": 41,
   "metadata": {},
   "outputs": [
    {
     "data": {
      "text/plain": [
       "array([0, 1, 1, ..., 3, 3, 1], dtype=int64)"
      ]
     },
     "execution_count": 41,
     "metadata": {},
     "output_type": "execute_result"
    }
   ],
   "source": [
    "y_pred = y_pred.argmax(axis=1)\n",
    "y_pred[:5]"
   ]
  },
  {
   "cell_type": "markdown",
   "metadata": {},
   "source": [
    "Ta thấy rằng model FFNN này có tỉ lệ dự đóan của model này ở mức cao lên đến 99%."
   ]
  },
  {
   "cell_type": "code",
   "execution_count": 42,
   "metadata": {},
   "outputs": [
    {
     "name": "stdout",
     "output_type": "stream",
     "text": [
      "              precision    recall  f1-score   support\n",
      "\n",
      "           0       0.94      0.98      0.96       179\n",
      "           1       0.98      0.98      0.98       941\n",
      "           2       0.92      0.79      0.85       102\n",
      "           3       0.94      0.98      0.96       266\n",
      "\n",
      "    accuracy                           0.96      1488\n",
      "   macro avg       0.95      0.93      0.94      1488\n",
      "weighted avg       0.96      0.96      0.96      1488\n",
      "\n"
     ]
    }
   ],
   "source": [
    "print(classification_report(y_test, y_pred))"
   ]
  }
 ],
 "metadata": {
  "kernelspec": {
   "display_name": "Python 3",
   "language": "python",
   "name": "python3"
  },
  "language_info": {
   "codemirror_mode": {
    "name": "ipython",
    "version": 3
   },
   "file_extension": ".py",
   "mimetype": "text/x-python",
   "name": "python",
   "nbconvert_exporter": "python",
   "pygments_lexer": "ipython3",
   "version": "3.11.5"
  }
 },
 "nbformat": 4,
 "nbformat_minor": 2
}
